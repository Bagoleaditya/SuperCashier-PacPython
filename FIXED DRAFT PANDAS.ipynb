{
 "cells": [
  {
   "cell_type": "code",
   "execution_count": 1,
   "id": "7905bf93",
   "metadata": {},
   "outputs": [],
   "source": [
    "import pandas as pd\n",
    "import numpy as np\n",
    "from tabulate import tabulate"
   ]
  },
  {
   "cell_type": "code",
   "execution_count": 2,
   "id": "1e662a18",
   "metadata": {},
   "outputs": [],
   "source": [
    "def transaction():\n",
    "    cust_name = str(input(\"Please input your name: \\n\")).upper()\n",
    "    no_hp = str(input(\"Please input your phone number: \\n\"))\n",
    "    if len(no_hp)<7:\n",
    "        print(\"ERROR: Phone number must have at least 7 digits.\")\n",
    "    else:\n",
    "        transaction_id = cust_name[:2] + no_hp[-6:]\n",
    "    return transaction_id\n"
   ]
  },
  {
   "cell_type": "code",
   "execution_count": null,
   "id": "a145b4a3",
   "metadata": {},
   "outputs": [],
   "source": [
    "transaction()"
   ]
  },
  {
   "cell_type": "code",
   "execution_count": 6,
   "id": "b0c31012",
   "metadata": {},
   "outputs": [],
   "source": [
    "# Initialize DataFrame\n",
    "cart = pd.DataFrame(columns=['quantity', 'price'])\n",
    "\n",
    "# Function to add items\n",
    "def add_item(cart):\n",
    "    while True:\n",
    "        try:\n",
    "            item_name = str(input(\"1. Add the item you want to purchase: \"))\n",
    "            item_qty = int(input(\"2. Add the quantity of the item: \"))\n",
    "            item_price = float(input(\"3. Add the price of the item: \"))\n",
    "            \n",
    "            if item_qty <= 0 or item_price < 0:\n",
    "                print(\"ERROR: Item quantity and price must be greater than 0!\")\n",
    "            else:\n",
    "                cart.loc[item_name] = [item_qty, item_price]\n",
    "                \n",
    "                cont_input = input(\"Do you want to add anything else?(y/n) \").lower()\n",
    "                if cont_input == \"n\":\n",
    "                    break\n",
    "            \n",
    "        except ValueError:\n",
    "            print(\"ERROR: Please input the correct value or number!\")\n"
   ]
  },
  {
   "cell_type": "code",
   "execution_count": 7,
   "id": "65b10098",
   "metadata": {},
   "outputs": [
    {
     "name": "stdout",
     "output_type": "stream",
     "text": [
      "1. Add the item you want to purchase: nasi goreng\n",
      "2. Add the quantity of the item: 2\n",
      "3. Add the price of the item: 20000\n",
      "Do you want to add anything else?(y/n) y\n",
      "1. Add the item you want to purchase: nasi bakar\n",
      "2. Add the quantity of the item: 2\n",
      "3. Add the price of the item: 300000\n",
      "Do you want to add anything else?(y/n) n\n"
     ]
    }
   ],
   "source": [
    "add_item(cart)"
   ]
  },
  {
   "cell_type": "code",
   "execution_count": null,
   "id": "99cab22c",
   "metadata": {},
   "outputs": [],
   "source": [
    "# Function to update item name\n",
    "def update_item_name(cart, old_name, new_name):\n",
    "    try:\n",
    "        cart.rename(index={old_name: new_name}, inplace=True)\n",
    "    except KeyError:\n",
    "        print(\"ERROR: Item not found!\")\n"
   ]
  },
  {
   "cell_type": "code",
   "execution_count": null,
   "id": "d2757795",
   "metadata": {},
   "outputs": [],
   "source": [
    "def update_item_qty(cart, item_name, new_qty):\n",
    "    try:\n",
    "        if new_qty <= 0:\n",
    "            print(\"ERROR: The new quantity must be greater than 0!\")\n",
    "        else:\n",
    "            cart.loc[item_name, 'quantity'] = new_qty\n",
    "    except KeyError:\n",
    "        print(\"ERROR: Item not found!\")"
   ]
  },
  {
   "cell_type": "code",
   "execution_count": null,
   "id": "0ddd0adc",
   "metadata": {},
   "outputs": [],
   "source": [
    "def update_item_price(cart, item_name, new_price):\n",
    "    try:\n",
    "        if new_price < 0:\n",
    "            print(\"ERROR: The new price must be greater than 0!\")\n",
    "        else:\n",
    "            cart.loc[item_name, 'price'] = new_price\n",
    "    except KeyError:\n",
    "        print(\"ERROR: Item not found!\")"
   ]
  },
  {
   "cell_type": "code",
   "execution_count": null,
   "id": "cd061bb0",
   "metadata": {},
   "outputs": [],
   "source": [
    "# Function to delete item using item_name\n",
    "def delete_item(cart, item_name):\n",
    "    try:\n",
    "        cart.drop(item_name, inplace=True)\n",
    "    except KeyError:\n",
    "        print(\"ERROR: Item not found!\")\n"
   ]
  },
  {
   "cell_type": "code",
   "execution_count": null,
   "id": "23bb6328",
   "metadata": {},
   "outputs": [],
   "source": [
    "# Function to reset the cart completely\n",
    "def reset_cart(cart):\n",
    "    cart.drop(cart.index, inplace=True)\n"
   ]
  },
  {
   "cell_type": "code",
   "execution_count": null,
   "id": "d3557aa3",
   "metadata": {},
   "outputs": [],
   "source": [
    "# Function to calculate and display the total price for each item separately\n",
    "def display_item_prices_column(cart):\n",
    "    cart['total_price'] = cart['quantity'] * cart['price']\n",
    "    print(cart)"
   ]
  },
  {
   "cell_type": "code",
   "execution_count": null,
   "id": "c672ddd2",
   "metadata": {},
   "outputs": [],
   "source": [
    "def menu():\n",
    "    print(\"-=|Welcome to Ojo Kendor Mart|=-\")\n",
    "    print(\"Please choose from menu below : \")\n",
    "    print(\"=\"*40)\n",
    "    print(\"1. Add item\")\n",
    "    print(\"2. Update your cart\")\n",
    "    print(\"3. Delete item\")\n",
    "    print(\"4. Reset cart\")\n",
    "    print(\"5. Check your cart\")\n",
    "    print(\"=\"*40)"
   ]
  },
  {
   "cell_type": "code",
   "execution_count": null,
   "id": "d53d3692",
   "metadata": {},
   "outputs": [],
   "source": [
    "menu()"
   ]
  },
  {
   "cell_type": "code",
   "execution_count": null,
   "id": "57118f6c",
   "metadata": {},
   "outputs": [],
   "source": []
  }
 ],
 "metadata": {
  "kernelspec": {
   "display_name": "Python 3 (ipykernel)",
   "language": "python",
   "name": "python3"
  },
  "language_info": {
   "codemirror_mode": {
    "name": "ipython",
    "version": 3
   },
   "file_extension": ".py",
   "mimetype": "text/x-python",
   "name": "python",
   "nbconvert_exporter": "python",
   "pygments_lexer": "ipython3",
   "version": "3.9.12"
  }
 },
 "nbformat": 4,
 "nbformat_minor": 5
}
