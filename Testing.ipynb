{
 "cells": [
  {
   "cell_type": "code",
   "execution_count": null,
   "id": "d04c6858",
   "metadata": {},
   "outputs": [],
   "source": [
    "import numpy as np"
   ]
  },
  {
   "cell_type": "code",
   "execution_count": 2,
   "id": "c65d9206",
   "metadata": {},
   "outputs": [],
   "source": [
    "def ask_item_input():\n",
    "    \"\"\"\n",
    "    Prompt the user for information about an item to add to an order.\n",
    "\n",
    "    Returns:\n",
    "        The name, quantity, and price of the item as entered by the user.\n",
    "    \"\"\"\n",
    "    while True:\n",
    "        try:\n",
    "            item_name = str(input(\"1. Masukkan nama barang: \"))\n",
    "            qty = int(input(\"2. Masukkan jumlah barang yang ingin dipesan: \"))\n",
    "            price = int(input(\"3. Masukkan harga per barang: \"))\n",
    "            if qty <= 0 or price < 0:\n",
    "                print(\"ERROR: Jumlah harus lebih dari 0 dan harga harus positif\")\n",
    "            else:\n",
    "                return item_name, qty, price\n",
    "        except ValueError:\n",
    "            print(\"--- ERROR: Masukkan harus berupa angka.  Mohon ulangi ---\")"
   ]
  },
  {
   "cell_type": "code",
   "execution_count": 3,
   "id": "9e04ebc4",
   "metadata": {},
   "outputs": [
    {
     "name": "stdout",
     "output_type": "stream",
     "text": [
      "1. Masukkan nama barang: Ayam goreng\n",
      "2. Masukkan jumlah barang yang ingin dipesan: 2\n",
      "3. Masukkan harga per barang: 20000\n"
     ]
    },
    {
     "data": {
      "text/plain": [
       "('Ayam goreng', 2, 20000)"
      ]
     },
     "execution_count": 3,
     "metadata": {},
     "output_type": "execute_result"
    }
   ],
   "source": [
    "ask_item_input()"
   ]
  },
  {
   "cell_type": "code",
   "execution_count": 4,
   "id": "03ee8bd6",
   "metadata": {},
   "outputs": [],
   "source": [
    "order= {}\n",
    "def add_item(order: dict):\n",
    "    \"\"\"\n",
    "    Add an item to the given order dictionary.\n",
    "\n",
    "    Args:\n",
    "        order (dict): The dictionary representing the order to add the item to.\n",
    "\n",
    "    Returns:\n",
    "        A dictionary containing the name, quantity, and price of the item as entered by the user.\n",
    "    \"\"\"\n",
    "\n",
    "    # Prompt for user input\n",
    "    item_name, qty, price = ask_item_input()\n",
    "    if item_name in order:\n",
    "        print(\"--- PEMBERITAHUAN: barang sudah ada di keranjang, silahkan update item untuk mengubah detail barang\")\n",
    "    else:\n",
    "        order[item_name] = {\"qty\": qty, \"price\": price}\n",
    "        print(\"--- Order telah ditambahkan! ---\")\n",
    "\n",
    "    return order"
   ]
  },
  {
   "cell_type": "code",
   "execution_count": 5,
   "id": "866d045f",
   "metadata": {},
   "outputs": [
    {
     "name": "stdout",
     "output_type": "stream",
     "text": [
      "1. Masukkan nama barang: ayam goreng\n",
      "2. Masukkan jumlah barang yang ingin dipesan: 2\n",
      "3. Masukkan harga per barang: 20000\n",
      "--- Order telah ditambahkan! ---\n"
     ]
    },
    {
     "data": {
      "text/plain": [
       "{'ayam goreng': {'qty': 2, 'price': 20000}}"
      ]
     },
     "execution_count": 5,
     "metadata": {},
     "output_type": "execute_result"
    }
   ],
   "source": [
    "add_item(order)"
   ]
  },
  {
   "cell_type": "code",
   "execution_count": 17,
   "id": "bceca036",
   "metadata": {},
   "outputs": [],
   "source": [
    "def add_item(cart):\n",
    "    \n",
    "    while True:\n",
    "        try:\n",
    "            item_name = str(input(\"1. Add the item you want to purchase: \"))\n",
    "            item_qty = int(input(\"2. Add the quantity of the item: \"))\n",
    "            item_price = int(input(\"3. Add the price of the item: \"))\n",
    "            \n",
    "            if item_qty <=0 or item_price <0:\n",
    "                print(\"ERROR: Item quantity and price must be greater than 0!\")\n",
    "            else:\n",
    "                cart[item_name] = {\"quantity\": item_qty, \"price\": item_price}\n",
    "                \n",
    "                cont_input = input(\"Do you want to add anything else?(y/n) \").lower()\n",
    "                if cont_input == \"n\":\n",
    "                    break\n",
    "            \n",
    "        except ValueError:\n",
    "            print(\"ERROR: Please input the correct value or number!\")\n",
    "        \n",
    "    "
   ]
  },
  {
   "cell_type": "code",
   "execution_count": null,
   "id": "b0137680",
   "metadata": {},
   "outputs": [],
   "source": [
    "def update_item_name(order: dict, prev_name: str, new_name: str):\n",
    "    \"\"\"\n",
    "    Update an item to the given order dictionary.\n",
    "\n",
    "    Args:\n",
    "        order (dict): The dictionary representing the order to add the item to.\n",
    "        prev_name (dict): Previous name of the item\n",
    "        new_name (dict): New name of the item\n",
    "\n",
    "    Returns:\n",
    "        Updated dictionary containing the name, quantity, and price of the item as entered by the user.\n",
    "    \"\"\"\n",
    "    \n",
    "    # Create new dict with the updated item name\n",
    "    updated_dict = {\n",
    "        new_name: {\n",
    "            \"qty\": order[prev_name][\"qty\"],\n",
    "            \"price\": order[prev_name][\"price\"]\n",
    "        }\n",
    "    }\n",
    "\n",
    "    # Del previous item and update order with new dict\n",
    "    del order[prev_name]\n",
    "    order.update(updated_dict)\n",
    "\n",
    "    return order"
   ]
  },
  {
   "cell_type": "code",
   "execution_count": null,
   "id": "618b8162",
   "metadata": {},
   "outputs": [],
   "source": [
    "def update_item_name(order,old_name,new_name):\n",
    "    \n",
    "    "
   ]
  },
  {
   "cell_type": "code",
   "execution_count": null,
   "id": "19caeae9",
   "metadata": {},
   "outputs": [],
   "source": [
    "def update_item_qty(order: dict, item_name: str, new_name: str, new_qty: int):\n",
    "    \"\"\"\n",
    "    Update an item to the given order dictionary.\n",
    "\n",
    "    Args:\n",
    "        order (dict): The dictionary representing the order to add the item to.\n",
    "        item_name (dict): Name of the item\n",
    "        new_name (dict): New name of the item\n",
    "        new_qty (dict): Updated qty\n",
    "\n",
    "    Returns:\n",
    "        Updated dictionary containing the name, quantity, and price of the item as entered by the user.\n",
    "    \"\"\"\n",
    "\n",
    "    # Check if the item_name as key has been changed\n",
    "    if item_name not in order:\n",
    "        order[new_name][\"qty\"] = new_qty\n",
    "    else:\n",
    "        # If not update using old name\n",
    "        order[item_name][\"qty\"] = new_qty\n",
    "\n",
    "    return order\n"
   ]
  },
  {
   "cell_type": "code",
   "execution_count": null,
   "id": "67fb07d2",
   "metadata": {},
   "outputs": [],
   "source": [
    "def update_item_price(order: dict, item_name: str, new_name: str, new_price: float):\n",
    "    \"\"\"\n",
    "    Update an item to the given order dictionary.\n",
    "\n",
    "    Args:\n",
    "        order (dict): The dictionary representing the order to add the item to.\n",
    "        item_name (dict): Name of the item\n",
    "        new_name (dict): New name of the item\n",
    "        new_price (dict): Updated qty\n",
    "\n",
    "    Returns:\n",
    "        Updated dictionary containing the name, quantity, and price of the item as entered by the user.\n",
    "    \"\"\"\n",
    "\n",
    "    # Check if the item_name as key has been changed\n",
    "    if item_name not in order:\n",
    "        order[new_name][\"price\"] = new_price\n",
    "    else:\n",
    "        # If not update using old name\n",
    "        order[item_name][\"price\"] = new_price\n",
    "\n",
    "    return order\n"
   ]
  },
  {
   "cell_type": "code",
   "execution_count": null,
   "id": "b490ecfe",
   "metadata": {},
   "outputs": [],
   "source": [
    "def delete_item(order: dict, item_name: str):\n",
    "    \"\"\"\n",
    "    Delete an item from the given order dictionary.\n",
    "\n",
    "    Args:\n",
    "        order (dict): The dictionary representing the order to delete the item from.\n",
    "        item_name (str): The name of the item to delete.\n",
    "\n",
    "    Returns:\n",
    "        Updated dictionary with the specified item removed.\n",
    "    \"\"\"\n",
    "    \n",
    "    del order[item_name]\n",
    "    print(\"--- Barang telah dihapus ---\")\n",
    "\n",
    "    return order\n"
   ]
  },
  {
   "cell_type": "code",
   "execution_count": null,
   "id": "fd70e829",
   "metadata": {},
   "outputs": [],
   "source": [
    "def reset_transaction(order: dict):\n",
    "    \"\"\"\n",
    "    Reset transaction anew.\n",
    "\n",
    "    Args:\n",
    "        order (dict): The dictionary representing the order.\n",
    "    \"\"\"\n",
    "    print(\"--- Transaksi telah dibatalkan. Keranjang Anda kosong ---\")\n",
    "    \n",
    "    return order.clear()\n"
   ]
  },
  {
   "cell_type": "code",
   "execution_count": null,
   "id": "518352f3",
   "metadata": {},
   "outputs": [],
   "source": [
    "def calculate_total_sum(order: dict):\n",
    "    \"\"\"\n",
    "    Calculate total sums of given dictionary\n",
    "\n",
    "    Args:\n",
    "        order (dict): The dictionary representing the order.\n",
    "\n",
    "    Returns:\n",
    "        total_sum (float): The total sum of transaction price.    \n",
    "    \"\"\"\n",
    "    \n",
    "    for item in order.values():\n",
    "        qty = item[\"qty\"]\n",
    "        price = item[\"price\"]\n",
    "        item_total = qty * price\n",
    "        item[\"total\"] = item_total\n",
    "\n",
    "    return order\n"
   ]
  },
  {
   "cell_type": "code",
   "execution_count": null,
   "id": "7f0f79b3",
   "metadata": {},
   "outputs": [],
   "source": [
    "def calculate_discount(order: dict):\n",
    "    \"\"\"\n",
    "    Calculate discount percent after certain threshold below.\n",
    "        1. Total > 200k, 5% disc.\n",
    "        2. Total > 300k, 6% disc.\n",
    "        3. Total > 500k, 7% disc.\n",
    "\n",
    "    Args:\n",
    "        order (dict): The dictionary representing the order.\n",
    "\n",
    "    Returns:\n",
    "        discount_percentage (int): The number of discount percentage.\n",
    "    \"\"\"\n",
    "\n",
    "    for item in order.values():\n",
    "        total = item[\"total\"]\n",
    "\n",
    "        if total > 500000:\n",
    "            item[\"disc\"] = 7\n",
    "        elif total > 300000:\n",
    "            item[\"disc\"] = 6\n",
    "        elif total > 200000:\n",
    "            item[\"disc\"] = 5\n",
    "        else:\n",
    "            item[\"disc\"] = 0\n",
    "\n",
    "    return order"
   ]
  },
  {
   "cell_type": "code",
   "execution_count": null,
   "id": "599cc502",
   "metadata": {},
   "outputs": [],
   "source": [
    "def calculate_price_after_discount(order: dict):\n",
    "    \"\"\"\n",
    "    Calculate the total price after discount.\n",
    "\n",
    "    Args:\n",
    "        order (dict): The dictionary representing the order.\n",
    "    \n",
    "    Returns:\n",
    "        price_after_discount (float): The total price after discount.\n",
    "    \"\"\"\n",
    "\n",
    "    for item in order.values():\n",
    "        total = item[\"total\"]\n",
    "        discount = item[\"disc\"]\n",
    "\n",
    "        price_after_discount = total * (1 - (discount / 100))\n",
    "        item[\"after_disc\"] = price_after_discount\n",
    "\n",
    "    return order"
   ]
  },
  {
   "cell_type": "code",
   "execution_count": null,
   "id": "40148359",
   "metadata": {},
   "outputs": [],
   "source": []
  }
 ],
 "metadata": {
  "kernelspec": {
   "display_name": "Python 3 (ipykernel)",
   "language": "python",
   "name": "python3"
  },
  "language_info": {
   "codemirror_mode": {
    "name": "ipython",
    "version": 3
   },
   "file_extension": ".py",
   "mimetype": "text/x-python",
   "name": "python",
   "nbconvert_exporter": "python",
   "pygments_lexer": "ipython3",
   "version": "3.9.12"
  }
 },
 "nbformat": 4,
 "nbformat_minor": 5
}
