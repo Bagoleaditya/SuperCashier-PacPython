{
 "cells": [
  {
   "cell_type": "code",
   "execution_count": 2,
   "id": "abec9485",
   "metadata": {},
   "outputs": [],
   "source": [
    "import pandas as pd\n",
    "import numpy as np\n",
    "from tabulate import tabulate"
   ]
  },
  {
   "cell_type": "code",
   "execution_count": null,
   "id": "829ef51b",
   "metadata": {},
   "outputs": [],
   "source": [
    "transaction"
   ]
  },
  {
   "cell_type": "code",
   "execution_count": 6,
   "id": "262dcbc8",
   "metadata": {},
   "outputs": [
    {
     "ename": "TypeError",
     "evalue": "add_item() missing 3 required positional arguments: 'item_name', 'item_amount', and 'item_price'",
     "output_type": "error",
     "traceback": [
      "\u001b[1;31m---------------------------------------------------------------------------\u001b[0m",
      "\u001b[1;31mTypeError\u001b[0m                                 Traceback (most recent call last)",
      "Input \u001b[1;32mIn [6]\u001b[0m, in \u001b[0;36m<cell line: 8>\u001b[1;34m()\u001b[0m\n\u001b[0;32m      4\u001b[0m     item_price \u001b[38;5;241m=\u001b[39m \u001b[38;5;28mint\u001b[39m(\u001b[38;5;28minput\u001b[39m(\u001b[38;5;124m\"\u001b[39m\u001b[38;5;124mMohon masukkan harga dari barang yang dibeli: \u001b[39m\u001b[38;5;124m\"\u001b[39m))\n\u001b[0;32m      5\u001b[0m     \u001b[38;5;28mprint\u001b[39m(tabulate(add_item, headers\u001b[38;5;241m=\u001b[39m[\u001b[38;5;124m\"\u001b[39m\u001b[38;5;124mNama Barang\u001b[39m\u001b[38;5;124m\"\u001b[39m,\u001b[38;5;124m\"\u001b[39m\u001b[38;5;124mJumlah Barang\u001b[39m\u001b[38;5;124m\"\u001b[39m, \u001b[38;5;124m\"\u001b[39m\u001b[38;5;124mHarga Barang\u001b[39m\u001b[38;5;124m\"\u001b[39m]))\n\u001b[1;32m----> 8\u001b[0m \u001b[43madd_item\u001b[49m\u001b[43m(\u001b[49m\u001b[43m)\u001b[49m\n",
      "\u001b[1;31mTypeError\u001b[0m: add_item() missing 3 required positional arguments: 'item_name', 'item_amount', and 'item_price'"
     ]
    }
   ],
   "source": [
    "def add_item(item_name, item_amount, item_price):\n",
    "    item_name = str(input(\"Mohon masukkan barang yang ingin dibeli: \"))\n",
    "    item_amount = int(input(\"Mohon masukkan jumlah barang yang ingin dibeli: \"))\n",
    "    item_price = int(input(\"Mohon masukkan harga dari barang yang dibeli: \"))\n",
    "    print(tabulate(add_item, headers=[\"Nama Barang\",\"Jumlah Barang\", \"Harga Barang\"]))\n",
    "\n",
    "    \n",
    "add_item()\n",
    "    \n",
    "    "
   ]
  },
  {
   "cell_type": "code",
   "execution_count": 4,
   "id": "31e85fac",
   "metadata": {},
   "outputs": [
    {
     "ename": "TypeError",
     "evalue": "add_item() missing 3 required positional arguments: 'item_name', 'item_amount', and 'item_price'",
     "output_type": "error",
     "traceback": [
      "\u001b[1;31m---------------------------------------------------------------------------\u001b[0m",
      "\u001b[1;31mTypeError\u001b[0m                                 Traceback (most recent call last)",
      "Input \u001b[1;32mIn [4]\u001b[0m, in \u001b[0;36m<cell line: 1>\u001b[1;34m()\u001b[0m\n\u001b[1;32m----> 1\u001b[0m \u001b[43madd_item\u001b[49m\u001b[43m(\u001b[49m\u001b[43m)\u001b[49m\n",
      "\u001b[1;31mTypeError\u001b[0m: add_item() missing 3 required positional arguments: 'item_name', 'item_amount', and 'item_price'"
     ]
    }
   ],
   "source": []
  },
  {
   "cell_type": "code",
   "execution_count": null,
   "id": "a677f54f",
   "metadata": {},
   "outputs": [],
   "source": []
  }
 ],
 "metadata": {
  "kernelspec": {
   "display_name": "Python 3 (ipykernel)",
   "language": "python",
   "name": "python3"
  },
  "language_info": {
   "codemirror_mode": {
    "name": "ipython",
    "version": 3
   },
   "file_extension": ".py",
   "mimetype": "text/x-python",
   "name": "python",
   "nbconvert_exporter": "python",
   "pygments_lexer": "ipython3",
   "version": "3.9.12"
  }
 },
 "nbformat": 4,
 "nbformat_minor": 5
}
