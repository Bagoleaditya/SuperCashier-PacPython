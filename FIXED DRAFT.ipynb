{
 "cells": [
  {
   "cell_type": "code",
   "execution_count": 1,
   "id": "e3aee3a4",
   "metadata": {},
   "outputs": [],
   "source": [
    "import pandas as pd\n",
    "import numpy as npr\n",
    "from tabulate import tabulate "
   ]
  },
  {
   "cell_type": "code",
   "execution_count": 2,
   "id": "28e9c4e3",
   "metadata": {},
   "outputs": [],
   "source": [
    "#initiate dict cart\n",
    "\n",
    "cart = {}"
   ]
  },
  {
   "cell_type": "code",
   "execution_count": 3,
   "id": "7f91670a",
   "metadata": {},
   "outputs": [],
   "source": [
    "def add_item(cart):\n",
    "    \n",
    "    while True:\n",
    "        try:\n",
    "            item_name = str(input(\"1. Add the item you want to purchase: \"))\n",
    "            item_qty = int(input(\"2. Add the quantity of the item: \"))\n",
    "            item_price = int(input(\"3. Add the price of the item: \"))\n",
    "            \n",
    "            if item_qty <=0 or item_price <0:\n",
    "                print(\"ERROR: Item quantity and price must be greater than 0!\")\n",
    "            else:\n",
    "                cart[item_name] = {\"quantity\": item_qty, \"price\": item_price}\n",
    "                \n",
    "                cont_input = input(\"Do you want to add anything else?(y/n) \").lower()\n",
    "                if cont_input == \"n\":\n",
    "                    break\n",
    "            \n",
    "        except ValueError:\n",
    "            print(\"ERROR: Please input the correct value or number!\")\n",
    "        \n",
    "    "
   ]
  },
  {
   "cell_type": "code",
   "execution_count": 4,
   "id": "f3d934ee",
   "metadata": {},
   "outputs": [
    {
     "name": "stdout",
     "output_type": "stream",
     "text": [
      "1. Add the item you want to purchase: ayam goreng\n",
      "2. Add the quantity of the item: ayam bakar\n",
      "ERROR: Please input the correct value or number!\n",
      "1. Add the item you want to purchase: ayam goreng\n",
      "2. Add the quantity of the item: 5\n",
      "3. Add the price of the item: 20000\n",
      "Do you want to add anything else?(y/n) n\n"
     ]
    }
   ],
   "source": [
    "add_item(cart)"
   ]
  },
  {
   "cell_type": "code",
   "execution_count": 10,
   "id": "eff6d8dc",
   "metadata": {},
   "outputs": [],
   "source": [
    "def update_item_name(cart, old_name, new_name):\n",
    "    if old_name in cart:\n",
    "        cart[new_name] = cart.pop(old_name)\n",
    "    else:\n",
    "        print(\"ERROR: Item not found!\")\n",
    "    \n",
    "    return cart\n"
   ]
  },
  {
   "cell_type": "code",
   "execution_count": 11,
   "id": "dfb0491f",
   "metadata": {},
   "outputs": [
    {
     "name": "stdout",
     "output_type": "stream",
     "text": [
      "Enter the name of the item you want to update: ayam bakar\n",
      "Enter the new name for the item: ayam goreng\n"
     ]
    },
    {
     "data": {
      "text/plain": [
       "{'ayam goreng': {'quantity': 5, 'price': 20000}}"
      ]
     },
     "execution_count": 11,
     "metadata": {},
     "output_type": "execute_result"
    }
   ],
   "source": [
    "old_name = input(\"Enter the name of the item you want to update: \")\n",
    "new_name = input(\"Enter the new name for the item: \")\n",
    "update_item_name(cart, old_name, new_name)\n"
   ]
  },
  {
   "cell_type": "code",
   "execution_count": null,
   "id": "f2dbd877",
   "metadata": {},
   "outputs": [],
   "source": [
    "def update_item_quantity(cart,item_name,old_price,new_price):\n",
    "    \n",
    "    "
   ]
  }
 ],
 "metadata": {
  "kernelspec": {
   "display_name": "Python 3 (ipykernel)",
   "language": "python",
   "name": "python3"
  },
  "language_info": {
   "codemirror_mode": {
    "name": "ipython",
    "version": 3
   },
   "file_extension": ".py",
   "mimetype": "text/x-python",
   "name": "python",
   "nbconvert_exporter": "python",
   "pygments_lexer": "ipython3",
   "version": "3.9.12"
  }
 },
 "nbformat": 4,
 "nbformat_minor": 5
}
